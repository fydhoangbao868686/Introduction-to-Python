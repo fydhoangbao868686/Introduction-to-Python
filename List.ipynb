{
  "nbformat": 4,
  "nbformat_minor": 0,
  "metadata": {
    "colab": {
      "provenance": []
    },
    "kernelspec": {
      "name": "python3",
      "display_name": "Python 3"
    },
    "language_info": {
      "name": "python"
    }
  },
  "cells": [
    {
      "cell_type": "markdown",
      "metadata": {
        "id": "2w94AK8aI5du"
      },
      "source": [
        "Here's a quick comparison between these 4 container data types:\n",
        "\n",
        "| Feature          | List                                  | Dictionary                           | Set                                | Tuple                             |\n",
        "|------------------|---------------------------------------|--------------------------------------|------------------------------------|-----------------------------------|\n",
        "| Syntax           | `[item1, item2, ...]`                 | `{'key1': value1, 'key2': value2}`   | `{item1, item2, ...}`              | `(item1, item2, ...)` or `item,`  |\n",
        "| Type of Data     | Sequence                              | Mapping                              | Set                                | Sequence                          |\n",
        "| Order            | Ordered                               | Unordered                            | Unordered                          | Ordered                           |\n",
        "| Indexing         | Yes (by index)                        | Yes (by key)                         | No                                 | Yes (by index)                    |\n",
        "| Duplicate Values | Allowed                               | Values can be duplicated, keys cannot| Not allowed                        | Allowed                           |\n",
        "| Mutability       | Mutable                               | Mutable                              | Mutable                            | Immutable                         |\n",
        "| Usage            | For a collection of ordered items     | For key-value pairs                  | For unique items                   | For fixed data                    |\n"
      ]
    },
    {
      "cell_type": "markdown",
      "source": [],
      "metadata": {
        "id": "LlXeNnHPwJQY"
      }
    },
    {
      "cell_type": "markdown",
      "metadata": {
        "id": "EDI1x5qUwJhO"
      },
      "source": [
        "# List\n",
        "\n",
        "- Used to store multiple ordered items in a single variable.\n",
        "- Created using `[` and `]`.\n",
        "- We won't be going into everything that we can do in a list.\n",
        "- Common data types in lists: Integer, Float, String, Boolean, List, Dictionary, Tuple, Set, Object.\n",
        "- You can include lists within lists.\n",
        "- Easy to store information.  \n",
        "\n",
        "## Importance\n",
        "\n",
        "Versatile for storing sequences of data. Pandas can convert lists into Series or DataFrame objects for analysis.\n"
      ]
    },
    {
      "cell_type": "markdown",
      "metadata": {
        "id": "V3BwZh5Z5KgW"
      },
      "source": [
        "### Examples\n",
        "\n",
        "Create a list of job skills that are common to data science roles.\n",
        "\n",
        "``` python\n",
        "# Define a list of data science jobs\n",
        "job_skills = ['sql','tableau','excel']\n",
        "job_skills\n",
        "```\n",
        "\n"
      ]
    },
    {
      "cell_type": "code",
      "execution_count": 6,
      "metadata": {
        "id": "53OoLMz7I5dw",
        "outputId": "a5f4e6d4-db1c-49c9-b353-f5c42ad217e8",
        "colab": {
          "base_uri": "https://localhost:8080/"
        }
      },
      "outputs": [
        {
          "output_type": "execute_result",
          "data": {
            "text/plain": [
              "['sql', 'tableau', 'excel']"
            ]
          },
          "metadata": {},
          "execution_count": 6
        }
      ],
      "source": [
        "# Define a list of data science jobs\n",
        "job_skills = ['sql','tableau','excel']\n",
        "job_skills"
      ]
    },
    {
      "cell_type": "markdown",
      "metadata": {
        "id": "VRmreiQB1N78"
      },
      "source": [
        "### Indexing\n",
        "\n",
        "What if we want to get a specific item in a list? We'd use list indexing.\n",
        "\n",
        "Lists are indexed, which means each item has a numerical position, so you can access it by referring to the index number.\n",
        "\n",
        "**Note: The first item has index 0.**\n",
        "\n",
        "[Visual Example](https://drive.google.com/file/d/1VGn2YJVhhcnJFPz98QUcFgU8OeZA1zKK/view?usp=drive_link)\n",
        "\n",
        "For this example if want to get 'tableau' in this list we would use the index `1`."
      ]
    },
    {
      "cell_type": "code",
      "execution_count": null,
      "metadata": {
        "colab": {
          "base_uri": "https://localhost:8080/"
        },
        "id": "p8yVsSFL5orJ",
        "outputId": "fe63780b-2b14-4031-f1ab-394d89a63280"
      },
      "outputs": [
        {
          "data": {
            "text/plain": [
              "'tableau'"
            ]
          },
          "execution_count": 2,
          "metadata": {},
          "output_type": "execute_result"
        }
      ],
      "source": [
        "# Get a specific item in the list\n",
        "job_skills[1]"
      ]
    },
    {
      "cell_type": "markdown",
      "metadata": {
        "id": "4dV-4gSDCBHt"
      },
      "source": [
        "### Change Value\n",
        "\n",
        "To change the value of a specific item, refer to its index number. Below we will change the 'tableau' skill (at index `1`) to 'bigquery'."
      ]
    },
    {
      "cell_type": "code",
      "execution_count": 4,
      "metadata": {
        "colab": {
          "base_uri": "https://localhost:8080/"
        },
        "id": "V60LL3MFTv9H",
        "outputId": "d202a631-7d4e-4781-d6c8-1cbcc60ac312"
      },
      "outputs": [
        {
          "output_type": "execute_result",
          "data": {
            "text/plain": [
              "['sql', 'bigquery', 'excel']"
            ]
          },
          "metadata": {},
          "execution_count": 4
        }
      ],
      "source": [
        "# Change the value of an item\n",
        "job_skills[1] ='bigquery'\n",
        "\n",
        "job_skills"
      ]
    },
    {
      "cell_type": "markdown",
      "metadata": {
        "id": "F_F8mKU6I5d2"
      },
      "source": [
        "### Methods\n",
        "\n",
        "* **Methods** are functions that belong to an object\n",
        "    * We learned a little about functions before but a reminder: it's a block of code designed to do a specific task.\n",
        "    * In a bit we'll be creating our own functions. But now we'll just be using functions given to us.\n",
        "* But all you need to know right now is that **methods** have this notation: `object.method()`\n"
      ]
    },
    {
      "cell_type": "markdown",
      "metadata": {
        "id": "wrhJZrIn6PuO"
      },
      "source": [
        "### Append()\n",
        "\n",
        "If you need to add an item at the end of a list you can use `append()` method. Below we'll add in 'looker' as a skill at the end of our list.\n",
        "\n",
        "We'll get into methods more later."
      ]
    },
    {
      "cell_type": "code",
      "execution_count": null,
      "metadata": {
        "colab": {
          "base_uri": "https://localhost:8080/"
        },
        "id": "-FX03XO263VL",
        "outputId": "10d37df9-4d02-494b-e6ea-7ab43749bea6"
      },
      "outputs": [
        {
          "data": {
            "text/plain": [
              "['sql', 'bigquery', 'excel', 'looker']"
            ]
          },
          "execution_count": 4,
          "metadata": {},
          "output_type": "execute_result"
        }
      ],
      "source": [
        "## Add a job to the list\n",
        "job_skills.append('looker')\n",
        "\n",
        "job_skills"
      ]
    },
    {
      "cell_type": "markdown",
      "metadata": {
        "id": "UI5ejT9CI5d4"
      },
      "source": [
        "### Length()\n",
        "\n",
        "If you want to see how many items are in a list use the `len()` function."
      ]
    },
    {
      "cell_type": "code",
      "execution_count": null,
      "metadata": {
        "id": "1EMXFwB2I5d4",
        "outputId": "6830432e-a031-4016-f672-4317a24ff1a5"
      },
      "outputs": [
        {
          "data": {
            "text/plain": [
              "4"
            ]
          },
          "execution_count": 5,
          "metadata": {},
          "output_type": "execute_result"
        }
      ],
      "source": [
        "len(job_skills)"
      ]
    },
    {
      "cell_type": "markdown",
      "metadata": {
        "id": "a5_y9-g45Gel"
      },
      "source": [
        "### Insert\n",
        "\n",
        "To insert a list item at a specified place (index), use `insert`. Here we are inserting the 'python' skill after 'bigquery'. So we will insert it at the index of `2`."
      ]
    },
    {
      "cell_type": "markdown",
      "metadata": {
        "id": "6rNPQAHgI5d5"
      },
      "source": [
        "🪲 **Debugging**\n",
        "\n",
        "**This is an intentional mistake**\n",
        "\n",
        "This is used to demonstrate debugging.\n",
        "\n",
        "Error: Incorrect syntax for `insert`. Forgot the comma.\n",
        "\n",
        "```python\n",
        "job_skills.insert(2'python')\n",
        "```\n"
      ]
    },
    {
      "cell_type": "markdown",
      "source": [
        "This is the correct one ✅"
      ],
      "metadata": {
        "id": "mKQNDBusuf4E"
      }
    },
    {
      "cell_type": "code",
      "execution_count": null,
      "metadata": {
        "colab": {
          "base_uri": "https://localhost:8080/"
        },
        "id": "X1k2Q-oE7BNI",
        "outputId": "bc8a6bef-64e9-48c0-a276-a7f6c4877096"
      },
      "outputs": [
        {
          "data": {
            "text/plain": [
              "['sql', 'bigquery', 'python', 'excel', 'looker']"
            ]
          },
          "execution_count": 7,
          "metadata": {},
          "output_type": "execute_result"
        }
      ],
      "source": [
        "# Insert an item into the list\n",
        "job_skills.insert(2,'python')\n",
        "\n",
        "job_skills"
      ]
    },
    {
      "cell_type": "markdown",
      "metadata": {
        "id": "pg_36GpO8Xev"
      },
      "source": [
        "### Remove()\n",
        "\n",
        "To remove a specific item use the `remove()` method. Let's remove the 'looker' skill."
      ]
    },
    {
      "cell_type": "code",
      "execution_count": null,
      "metadata": {
        "colab": {
          "base_uri": "https://localhost:8080/"
        },
        "id": "O_Ad8_2t8eFY",
        "outputId": "cae57cd9-e87f-4f10-d744-574f005bccf3"
      },
      "outputs": [
        {
          "data": {
            "text/plain": [
              "['sql', 'bigquery', 'python', 'excel']"
            ]
          },
          "execution_count": 8,
          "metadata": {},
          "output_type": "execute_result"
        }
      ],
      "source": [
        "# Remove an item from the list\n",
        "job_skills.remove('looker')\n",
        "\n",
        "job_skills"
      ]
    },
    {
      "cell_type": "markdown",
      "metadata": {
        "id": "FSzIJbIYI5d8"
      },
      "source": [
        "### Join Lists\n",
        "\n",
        "There are a few ways to join (or concatenate) two or more lists.\n",
        "\n",
        "1. Concatenate using the `+` operator.\n"
      ]
    },
    {
      "cell_type": "code",
      "execution_count": null,
      "metadata": {
        "id": "y0DrjCthI5d8",
        "outputId": "5c683720-2e78-4e4f-84d4-927589cca3a0"
      },
      "outputs": [
        {
          "data": {
            "text/plain": [
              "['SQL', 'Tableau', 'Excel']"
            ]
          },
          "execution_count": 9,
          "metadata": {},
          "output_type": "execute_result"
        }
      ],
      "source": [
        "# Concatenate\n",
        "skills1 = ['SQL', 'Tableau']\n",
        "skills2 = ['Excel']\n",
        "\n",
        "skills3 = skills1 + skills2\n",
        "skills3"
      ]
    },
    {
      "cell_type": "markdown",
      "metadata": {
        "id": "VgIm4rP8I5d8"
      },
      "source": [
        "2. Appending all items from the first list to the second using `.append()`. Here we're appending all items from `skills3` to `skills4` list.\n"
      ]
    },
    {
      "cell_type": "code",
      "execution_count": null,
      "metadata": {
        "id": "EAlcvzKvI5d8",
        "outputId": "6c5d2dd1-ca22-4f26-81f4-ffce24514185"
      },
      "outputs": [
        {
          "data": {
            "text/plain": [
              "['Python', 'Power BI', 'SQL', 'Tableau', 'Excel']"
            ]
          },
          "execution_count": 10,
          "metadata": {},
          "output_type": "execute_result"
        }
      ],
      "source": [
        "# Append\n",
        "skills4 = ['Python', 'Power BI']\n",
        "\n",
        "# Append all items from skills3 to skills4 list\n",
        "for x in skills3:\n",
        "    skills4.append(x)\n",
        "\n",
        "skills4"
      ]
    },
    {
      "cell_type": "markdown",
      "metadata": {
        "id": "jlFGpQqRI5d9"
      },
      "source": [
        "3. Use `extend()` method to add elements from one list to another list. We are adding elements from the `skills4` list to the `skills5` list.\n",
        "\n"
      ]
    },
    {
      "cell_type": "code",
      "execution_count": null,
      "metadata": {
        "id": "84B3MJHVI5d9",
        "outputId": "346da282-ee6a-47f6-cfad-e50e258de1e7"
      },
      "outputs": [
        {
          "data": {
            "text/plain": [
              "['Statistics',\n",
              " 'Machine Learning',\n",
              " 'Python',\n",
              " 'Power BI',\n",
              " 'SQL',\n",
              " 'Tableau',\n",
              " 'Excel']"
            ]
          },
          "execution_count": 11,
          "metadata": {},
          "output_type": "execute_result"
        }
      ],
      "source": [
        "# Extend\n",
        "skills5 = ['Statistics', 'Machine Learning']\n",
        "\n",
        "skills5.extend(skills4)\n",
        "\n",
        "skills5"
      ]
    },
    {
      "cell_type": "markdown",
      "metadata": {
        "id": "fUp-yen9I5d-"
      },
      "source": [
        "### Join()\n",
        "\n",
        "The `.join` method is used for concatenating a sequence of strings together with a specified separator. You need to add a specific separator (e.g. `', '`) between each element during the concatenation process. This is used to format output for readability.\n",
        "\n",
        "You can use this for lists, tuples and more. But in our case we'll mostly be using it for either lists or tuples. For lists specifically we are combining multiple strings from a list."
      ]
    },
    {
      "cell_type": "code",
      "execution_count": 2,
      "metadata": {
        "id": "Unwjguz5I5d-"
      },
      "outputs": [],
      "source": [
        "skills = ['Python', 'SQL', 'Excel']"
      ]
    },
    {
      "cell_type": "code",
      "execution_count": 10,
      "metadata": {
        "id": "MJ8cA545I5d-",
        "outputId": "04f0572a-2195-4e5b-dafd-3d8750866f70",
        "colab": {
          "base_uri": "https://localhost:8080/"
        }
      },
      "outputs": [
        {
          "output_type": "stream",
          "name": "stdout",
          "text": [
            "I have these skills: Python, SQL, Excel\n"
          ]
        }
      ],
      "source": [
        "# Use concatenate print formatting\n",
        "print('I have these skills: ' + ', '.join(skills))"
      ]
    },
    {
      "cell_type": "markdown",
      "metadata": {
        "id": "1CKdsH1JI5d-"
      },
      "source": [
        "### Slicing Lists\n",
        "\n",
        "Slicing Syntax:\n",
        "* Syntax: `list[start:end:step]`  \n",
        "    * `start`: The starting index (inclusive)\n",
        "    * `end`: The ending index (exclusive)\n",
        "    * `step`: Steps to take between items"
      ]
    },
    {
      "cell_type": "code",
      "execution_count": null,
      "metadata": {
        "id": "LkTfdYo7I5d_",
        "outputId": "e8b757c5-d32c-4f78-cb89-546b2744c1a1"
      },
      "outputs": [
        {
          "data": {
            "text/plain": [
              "['Python', 'SQL']"
            ]
          },
          "execution_count": 23,
          "metadata": {},
          "output_type": "execute_result"
        }
      ],
      "source": [
        "skills = ['Python', 'SQL', 'Excel']\n",
        "\n",
        "# Extract the first two items\n",
        "first_two = skills[0:2]\n",
        "first_two"
      ]
    },
    {
      "cell_type": "markdown",
      "metadata": {
        "id": "hgAm58pgI5d_"
      },
      "source": [
        "`start` has a default value of `0` and `stop` has a default value of the last value in the list.\n",
        "\n",
        "Therefore: you can omit either when one of these values."
      ]
    },
    {
      "cell_type": "code",
      "execution_count": null,
      "metadata": {
        "id": "Vx3WTBziI5d_",
        "outputId": "a72a7dab-e234-4c1a-cebf-e1102316e95d"
      },
      "outputs": [
        {
          "data": {
            "text/plain": [
              "['Python', 'SQL', 'Excel']"
            ]
          },
          "execution_count": 26,
          "metadata": {},
          "output_type": "execute_result"
        }
      ],
      "source": [
        "full_list = skills[:]\n",
        "full_list"
      ]
    },
    {
      "cell_type": "code",
      "execution_count": null,
      "metadata": {
        "id": "2LgFmGBmI5d_",
        "outputId": "1af79ca4-54ea-43fd-a469-d666aed7823c"
      },
      "outputs": [
        {
          "data": {
            "text/plain": [
              "['Python', 'SQL']"
            ]
          },
          "execution_count": 25,
          "metadata": {},
          "output_type": "execute_result"
        }
      ],
      "source": [
        "also_first_two = skills[:2]\n",
        "also_first_two"
      ]
    },
    {
      "cell_type": "code",
      "execution_count": null,
      "metadata": {
        "id": "ZNwvyJXNI5eA",
        "outputId": "d2d27ec1-45df-4355-82f1-46f11e364cd1"
      },
      "outputs": [
        {
          "data": {
            "text/plain": [
              "['SQL', 'Excel']"
            ]
          },
          "execution_count": 24,
          "metadata": {},
          "output_type": "execute_result"
        }
      ],
      "source": [
        "last_two = skills[1:]\n",
        "last_two"
      ]
    },
    {
      "cell_type": "code",
      "execution_count": null,
      "metadata": {
        "id": "GRN9orWnI5eA",
        "outputId": "4c2846d2-63fb-4427-fc2f-901b3f2b4608"
      },
      "outputs": [
        {
          "data": {
            "text/plain": [
              "['Python', 'SQL', 'Excel']"
            ]
          },
          "execution_count": 27,
          "metadata": {},
          "output_type": "execute_result"
        }
      ],
      "source": [
        "last_one = skills[-3:]\n",
        "last_one"
      ]
    },
    {
      "cell_type": "markdown",
      "metadata": {
        "id": "EYTpXaF-I5eA"
      },
      "source": [
        "For `step` the default value is `1`, but if we want to change it up:"
      ]
    },
    {
      "cell_type": "code",
      "execution_count": null,
      "metadata": {
        "id": "D37KTs98I5eB",
        "outputId": "8f911c3a-a927-4c52-ad6f-0d9b3b7e2a9f"
      },
      "outputs": [
        {
          "data": {
            "text/plain": [
              "['Python', 'Excel', 'Java']"
            ]
          },
          "execution_count": 21,
          "metadata": {},
          "output_type": "execute_result"
        }
      ],
      "source": [
        "skills = ['Python', 'SQL', 'Excel', 'R', 'Java']\n",
        "\n",
        "# Extract every second item starting from the first\n",
        "every_second = skills[0::2]\n",
        "every_second"
      ]
    },
    {
      "cell_type": "markdown",
      "metadata": {
        "id": "uHtydryRI5eR"
      },
      "source": [
        "### Unpack List\n",
        "\n",
        "To unpack a list (unpacking is when you assign each value in a list to a variable in a single statement) you can assign the list elements to variables directly."
      ]
    },
    {
      "cell_type": "code",
      "execution_count": null,
      "metadata": {
        "id": "yfpte6XUI5eR",
        "outputId": "8d6bfe8f-dcba-435e-c86e-d328bc18b1e1"
      },
      "outputs": [
        {
          "name": "stdout",
          "output_type": "stream",
          "text": [
            "sql\n",
            "bigquery\n",
            "python\n",
            "excel\n"
          ]
        }
      ],
      "source": [
        "# Unpacking the list\n",
        "skill1, skill2, skill3, skill4 = job_skills\n",
        "\n",
        "# Printing the unpacked variables\n",
        "print(skill1)\n",
        "print(skill2)\n",
        "print(skill3)\n",
        "print(skill4)"
      ]
    },
    {
      "cell_type": "markdown",
      "metadata": {
        "id": "M5vOZxWuI5eS"
      },
      "source": [
        "### Extend Unpack List\n",
        "\n",
        "To extend unpack a list, is when you assign a subset of elements to a variable as a list."
      ]
    },
    {
      "cell_type": "code",
      "execution_count": null,
      "metadata": {
        "id": "MDNUqxDNI5eS",
        "outputId": "ad9e5c6d-4d04-4d6a-e288-08ff48b4625d"
      },
      "outputs": [
        {
          "name": "stdout",
          "output_type": "stream",
          "text": [
            "['sql', 'bigquery']\n",
            "python\n",
            "excel\n"
          ]
        }
      ],
      "source": [
        "# Unpacking the sql skills together and then unpacking the rest of the skills\n",
        "*sql_skills, skill3, skill4 = job_skills\n",
        "\n",
        "print(sql_skills)  # List of the SQL skills\n",
        "print(skill3)\n",
        "print(skill4)"
      ]
    },
    {
      "cell_type": "markdown",
      "source": [
        "\n",
        "\n",
        "---\n",
        "\n"
      ],
      "metadata": {
        "id": "Jht5irdvtLNb"
      }
    },
    {
      "cell_type": "markdown",
      "metadata": {
        "id": "EbnEUhnwxYdG"
      },
      "source": [
        "#Dictionary\n",
        "\n",
        "* Used to store data values in *key:value* pairs.\n",
        "* It is:\n",
        "  * ordered (as of Python version 3.7)\n",
        "  * changeable\n",
        "  * Doesn't allow duplicates\n",
        "* Created using `{` and `}` and has keys and values.\n",
        "\n",
        "## Importance\n",
        "\n",
        "Useful for labeling data or creating pandas DataFrames (typically a .CSV file) with named columns, enhancing data readability."
      ]
    },
    {
      "cell_type": "markdown",
      "metadata": {
        "id": "O8wUjMVar-Zk"
      },
      "source": [
        "## Create a Dictionary\n",
        "\n",
        "We'll create a dictionary of the type of data science skills. For example 'postgresql' is considered a 'database' skill. We will have the type of skill as the key, and then the actual skill as the value."
      ]
    },
    {
      "cell_type": "markdown",
      "metadata": {
        "id": "x4oPObBgWalF"
      },
      "source": [
        "🪲 **Debugging**\n",
        "\n",
        "**This is an intentional mistake**\n",
        "\n",
        "This is used to demonstrate debugging.\n",
        "\n",
        "Error: Forgot a comma `,` at the end of the second dictionary item.\n",
        "\n",
        "```\n",
        "'languages': 'python'\n",
        "```\n",
        "\n",
        "Steps to Debug:\n",
        "\n",
        "1. Look at the actual error, can you tell what the problem is?\n",
        "2. If not, then look it up:\n",
        "  1. Use a chatbot like ChatGPT or Claude\n",
        "  2. Look it up using Google"
      ]
    },
    {
      "cell_type": "code",
      "execution_count": null,
      "metadata": {
        "colab": {
          "base_uri": "https://localhost:8080/",
          "height": 106
        },
        "id": "wynfsas1WZu8",
        "outputId": "c20ce842-2a61-472b-9c5c-5dd2ef5b4209"
      },
      "outputs": [
        {
          "ename": "SyntaxError",
          "evalue": "invalid syntax (2774884211.py, line 5)",
          "output_type": "error",
          "traceback": [
            "\u001b[0;36m  Cell \u001b[0;32mIn[33], line 5\u001b[0;36m\u001b[0m\n\u001b[0;31m    'library': 'pandas'\u001b[0m\n\u001b[0m             ^\u001b[0m\n\u001b[0;31mSyntaxError\u001b[0m\u001b[0;31m:\u001b[0m invalid syntax\n"
          ]
        }
      ],
      "source": [
        "# Define a dictionary of data science skills\n",
        "job_type_skills = {\n",
        "    'database': 'postgresql',\n",
        "    'language': 'python'\n",
        "    'library': 'pandas'\n",
        "}\n",
        "\n",
        "job_type_skills"
      ]
    },
    {
      "cell_type": "markdown",
      "metadata": {
        "id": "9lzyOZjTWTIn"
      },
      "source": [
        "This is the correct code ✅."
      ]
    },
    {
      "cell_type": "code",
      "execution_count": null,
      "metadata": {
        "colab": {
          "base_uri": "https://localhost:8080/"
        },
        "id": "VPSI49Kt86Cn",
        "outputId": "8235730c-46a3-45ab-b380-a64f34182199"
      },
      "outputs": [
        {
          "data": {
            "text/plain": [
              "{'database': 'postgresql', 'language': 'python', 'library': 'pandas'}"
            ]
          },
          "execution_count": 34,
          "metadata": {},
          "output_type": "execute_result"
        }
      ],
      "source": [
        "# Define a dictionary of data science skills\n",
        "job_type_skills = {\n",
        "    'database': 'postgresql',\n",
        "    'language': 'python',\n",
        "    'library': 'pandas'\n",
        "}\n",
        "\n",
        "job_type_skills"
      ]
    },
    {
      "cell_type": "markdown",
      "metadata": {
        "id": "jnvnh2t_9-FY"
      },
      "source": [
        "## Get Items\n",
        "\n",
        "To get an item in the dictionary there are two methods:"
      ]
    },
    {
      "cell_type": "markdown",
      "metadata": {
        "id": "G0bK9rlNr-Zp"
      },
      "source": [
        "### Keys"
      ]
    },
    {
      "cell_type": "markdown",
      "metadata": {
        "id": "t-mSc7X8r-Zq"
      },
      "source": [
        "#### Get Key\n",
        "\n",
        "Refer to its key name inside square brackets."
      ]
    },
    {
      "cell_type": "code",
      "execution_count": null,
      "metadata": {
        "colab": {
          "base_uri": "https://localhost:8080/"
        },
        "id": "m5mjrDqU-CKX",
        "outputId": "7c9b3356-04ea-4529-8a1e-11e7fbaa5eae"
      },
      "outputs": [
        {
          "data": {
            "text/plain": [
              "'python'"
            ]
          },
          "execution_count": 35,
          "metadata": {},
          "output_type": "execute_result"
        }
      ],
      "source": [
        "# Define a dictionary of data science skills\n",
        "job_type_skills = {\n",
        "    'database': 'postgresql',\n",
        "    'language': 'python',\n",
        "    'library': 'pandas'\n",
        "}\n",
        "\n",
        "job_type_skills['language']"
      ]
    },
    {
      "cell_type": "markdown",
      "metadata": {
        "id": "1z9mLlq-r-Zr"
      },
      "source": [
        "#### Get()\n",
        "\n",
        "Or you can also use `get()` to retrieve the value for a given key."
      ]
    },
    {
      "cell_type": "code",
      "execution_count": null,
      "metadata": {
        "id": "oLlVXrJur-Zr",
        "outputId": "8903cb1a-f4ad-4de8-c6db-b547dd17e00e"
      },
      "outputs": [
        {
          "data": {
            "text/plain": [
              "'python'"
            ]
          },
          "execution_count": 37,
          "metadata": {},
          "output_type": "execute_result"
        }
      ],
      "source": [
        "job_type_skills.get('language')"
      ]
    },
    {
      "cell_type": "markdown",
      "metadata": {
        "id": "EYpxQ78Ir-Zr"
      },
      "source": [
        "### Keys()\n",
        "\n",
        "If you want to see all the keys in the dictionary use `keys()`."
      ]
    },
    {
      "cell_type": "code",
      "execution_count": null,
      "metadata": {
        "id": "0yLdI2MDr-Zs",
        "outputId": "116c7c81-089a-4d95-f937-57f5bfc5cbbd"
      },
      "outputs": [
        {
          "data": {
            "text/plain": [
              "dict_keys(['database', 'language', 'library'])"
            ]
          },
          "execution_count": 38,
          "metadata": {},
          "output_type": "execute_result"
        }
      ],
      "source": [
        "job_type_skills.keys()\n"
      ]
    },
    {
      "cell_type": "markdown",
      "metadata": {
        "id": "-jIP4ysqr-Zs"
      },
      "source": [
        "If the key doesn't exist, you can specify a default value to return instead."
      ]
    },
    {
      "cell_type": "code",
      "execution_count": null,
      "metadata": {
        "id": "0duhkOEjr-Zs",
        "outputId": "7175e728-cb1e-4121-8bee-12bc10330568"
      },
      "outputs": [
        {
          "data": {
            "text/plain": [
              "'not found'"
            ]
          },
          "execution_count": 39,
          "metadata": {},
          "output_type": "execute_result"
        }
      ],
      "source": [
        "job_type_skills.get('analytics', 'not found')"
      ]
    },
    {
      "cell_type": "markdown",
      "metadata": {
        "id": "rAI_Bz6kr-Zt"
      },
      "source": [
        "### Values()\n",
        "\n",
        "If you want to see all the values in the dictionary use `values()`."
      ]
    },
    {
      "cell_type": "code",
      "execution_count": null,
      "metadata": {
        "id": "6kN-rRS8r-Zt",
        "outputId": "fe44f810-0158-43fb-d556-8a27b9c27f59"
      },
      "outputs": [
        {
          "data": {
            "text/plain": [
              "dict_values(['postgresql', 'python', 'pandas'])"
            ]
          },
          "execution_count": 40,
          "metadata": {},
          "output_type": "execute_result"
        }
      ],
      "source": [
        "job_type_skills.values()\n"
      ]
    },
    {
      "cell_type": "markdown",
      "metadata": {
        "id": "OQwjRXkbr-Zt"
      },
      "source": [
        "### Items()\n",
        "\n",
        "To return the dictonary's key-value pairs."
      ]
    },
    {
      "cell_type": "code",
      "execution_count": null,
      "metadata": {
        "id": "3BpeLnIGr-Zt",
        "outputId": "83a1db28-8047-4cbf-b035-c3a6cbe4c9ab"
      },
      "outputs": [
        {
          "data": {
            "text/plain": [
              "dict_items([('database', 'postgresql'), ('language', 'python'), ('library', 'pandas')])"
            ]
          },
          "execution_count": 41,
          "metadata": {},
          "output_type": "execute_result"
        }
      ],
      "source": [
        "job_type_skills.items()"
      ]
    },
    {
      "cell_type": "markdown",
      "metadata": {
        "id": "_CvLle6Jr-Zu"
      },
      "source": [
        "## Pop()\n",
        "\n",
        "To remove a key from the dictionary and return its value use `.pop()`."
      ]
    },
    {
      "cell_type": "code",
      "execution_count": null,
      "metadata": {
        "id": "yO-UxeDLr-Zu",
        "outputId": "5864d87f-8bc8-45fa-90f7-f9fb9dccb571"
      },
      "outputs": [
        {
          "data": {
            "text/plain": [
              "{'database': 'postgresql', 'language': 'python'}"
            ]
          },
          "execution_count": 42,
          "metadata": {},
          "output_type": "execute_result"
        }
      ],
      "source": [
        "job_type_skills.pop('library')\n",
        "job_type_skills"
      ]
    },
    {
      "cell_type": "markdown",
      "metadata": {
        "id": "HO6scXU8DfcI"
      },
      "source": [
        "## Add Items\n",
        "\n",
        "You can add items by either:"
      ]
    },
    {
      "cell_type": "markdown",
      "metadata": {
        "id": "mSHTaE3jr-Zu"
      },
      "source": [
        "### Direct Assignment\n",
        "\n",
        "Direct assignment which assigns a value to a new or existing key directly."
      ]
    },
    {
      "cell_type": "code",
      "execution_count": null,
      "metadata": {
        "id": "xEeXjVXrr-Zv",
        "outputId": "ec957b85-ee48-45b9-eca6-fa404e9a79f2"
      },
      "outputs": [
        {
          "data": {
            "text/plain": [
              "{'database': 'postgresql', 'language': 'python', 'framework': 'flask'}"
            ]
          },
          "execution_count": 43,
          "metadata": {},
          "output_type": "execute_result"
        }
      ],
      "source": [
        "# Direct assignment\n",
        "job_type_skills['framework'] = 'flask'\n",
        "\n",
        "# Return dictionary\n",
        "job_type_skills"
      ]
    },
    {
      "cell_type": "markdown",
      "metadata": {
        "id": "8Sj6YUpRr-Zv"
      },
      "source": [
        "### Update()\n",
        "\n",
        "Use the `update()` method which can add multiple items at once."
      ]
    },
    {
      "cell_type": "markdown",
      "metadata": {
        "id": "biejDFCGr-Zv"
      },
      "source": [
        "🪲 **Debugging**\n",
        "\n",
        "**This is an intentional mistake**\n",
        "\n",
        "This is used to demonstrate debugging.\n",
        "\n",
        "Errors:\n",
        "\n",
        "Forgot a colon `:` in the first key:value pair.\n",
        "\n",
        "```python\n",
        "'language' 'python'\n",
        "```\n",
        "\n",
        "Forgot the end bracket `}`.\n",
        "\n",
        "  ```python\n",
        "  job_type_skills.update({'language' 'python', 'version_control': 'git')\n",
        "  ```\n",
        "\n",
        "Steps to Debug:\n",
        "\n",
        "1. Look at the actual error, can you tell what the problem is?\n",
        "2. If not, then look it up:\n",
        "  1. Use a chatbot like ChatGPT or Claude\n",
        "  2. Look it up using Google"
      ]
    },
    {
      "cell_type": "code",
      "execution_count": null,
      "metadata": {
        "id": "MrSKPLpdr-Zv",
        "outputId": "279b9b96-7bc3-41f9-daa4-edb69b6cb757"
      },
      "outputs": [
        {
          "ename": "SyntaxError",
          "evalue": "invalid syntax (564925376.py, line 2)",
          "output_type": "error",
          "traceback": [
            "\u001b[0;36m  Cell \u001b[0;32mIn[44], line 2\u001b[0;36m\u001b[0m\n\u001b[0;31m    job_type_skills.update({'language' 'python', 'version_control': 'git')\u001b[0m\n\u001b[0m                                                                  ^\u001b[0m\n\u001b[0;31mSyntaxError\u001b[0m\u001b[0;31m:\u001b[0m invalid syntax\n"
          ]
        }
      ],
      "source": [
        "# Update\n",
        "job_type_skills.update({'cloud': 'google cloud', 'version_control': 'git')\n",
        "\n",
        "# Return dictionary\n",
        "job_type_skills"
      ]
    },
    {
      "cell_type": "markdown",
      "metadata": {
        "id": "l1OUNRHGr-Zw"
      },
      "source": [
        "This is the correct code ✅."
      ]
    },
    {
      "cell_type": "code",
      "execution_count": null,
      "metadata": {
        "id": "U4P3gNZZr-Zw",
        "outputId": "53818cde-bc8c-461a-a6e0-d69ffcd77174"
      },
      "outputs": [
        {
          "data": {
            "text/plain": [
              "{'database': 'postgresql',\n",
              " 'language': 'python',\n",
              " 'framework': 'flask',\n",
              " 'cloud': 'google cloud',\n",
              " 'version_control': 'git'}"
            ]
          },
          "execution_count": 45,
          "metadata": {},
          "output_type": "execute_result"
        }
      ],
      "source": [
        "# Update\n",
        "job_type_skills.update({'cloud': 'google cloud', 'version_control': 'git'})\n",
        "\n",
        "# Return dictionary\n",
        "job_type_skills"
      ]
    },
    {
      "cell_type": "markdown",
      "metadata": {
        "id": "sMH_r8VbV2Vt"
      },
      "source": [
        "## Any object can be stored in a dictionary\n",
        "\n",
        "You can also have lists within dictionaries. We'll update the skills with adding a list of programming languages in the `language` key using the `update` function."
      ]
    },
    {
      "cell_type": "code",
      "execution_count": null,
      "metadata": {
        "colab": {
          "base_uri": "https://localhost:8080/"
        },
        "id": "w-ogcGHsV7Ii",
        "outputId": "de9950df-0311-4171-acfa-64ee7d0c47af"
      },
      "outputs": [
        {
          "data": {
            "text/plain": [
              "{'database': 'postgresql',\n",
              " 'language': ['python', 'r'],\n",
              " 'framework': 'flask',\n",
              " 'cloud': 'google cloud',\n",
              " 'version_control': 'git'}"
            ]
          },
          "execution_count": 46,
          "metadata": {},
          "output_type": "execute_result"
        }
      ],
      "source": [
        "# Define a dictionary of data science skills\n",
        "\n",
        "job_type_skills.update({'language': ['python', 'r']})\n",
        "\n",
        "job_type_skills"
      ]
    },
    {
      "cell_type": "markdown",
      "source": [
        "\n",
        "\n",
        "---\n",
        "\n"
      ],
      "metadata": {
        "id": "DlSQyNslsfOv"
      }
    },
    {
      "cell_type": "markdown",
      "metadata": {
        "id": "tjdTcwImxaUJ"
      },
      "source": [
        "# Set\n",
        "\n",
        "* For unique items\n",
        "* Used to store multiple items in a single variable\n",
        "* It is:\n",
        "  * unorderd\n",
        "  * Unchangeable\n",
        "  * Unindexed\n",
        "* Set *items* are unchangeable but you can still remove items and add new items\n",
        "\n",
        "## Importance\n",
        "\n",
        "Employed for removing duplicates and for set operations, aiding in data cleaning and preparation.\n",
        "\n",
        "## Examples\n",
        "\n",
        "First let's create a set of data science skills."
      ]
    },
    {
      "cell_type": "code",
      "execution_count": null,
      "metadata": {
        "colab": {
          "base_uri": "https://localhost:8080/"
        },
        "id": "iWcYVKZCEy8c",
        "outputId": "1f4eb053-8b8a-4e84-946e-07cec0b3d111"
      },
      "outputs": [
        {
          "data": {
            "text/plain": [
              "{'python', 'sql', 'statistics', 'tableau'}"
            ]
          },
          "execution_count": 12,
          "metadata": {},
          "output_type": "execute_result"
        }
      ],
      "source": [
        "# Define a set of data science skills\n",
        "job_skills = {'tableau', 'sql', 'python', 'statistics'}\n",
        "\n",
        "job_skills"
      ]
    },
    {
      "cell_type": "markdown",
      "metadata": {
        "id": "zSKYGa3hrOEN"
      },
      "source": [
        "### Unordered and No Index\n",
        "\n",
        "Sets are unorderd and have no index so don't behave completely like lists.\n",
        "\n",
        "Therefore, we can't use an index to access items."
      ]
    },
    {
      "cell_type": "code",
      "execution_count": null,
      "metadata": {
        "id": "P4HBMo2HrOEO",
        "outputId": "e23aee70-eafa-4bae-ec89-1507c96e2bc5"
      },
      "outputs": [
        {
          "ename": "TypeError",
          "evalue": "'set' object is not subscriptable",
          "output_type": "error",
          "traceback": [
            "\u001b[0;31m---------------------------------------------------------------------------\u001b[0m",
            "\u001b[0;31mTypeError\u001b[0m                                 Traceback (most recent call last)",
            "Cell \u001b[0;32mIn[13], line 1\u001b[0m\n\u001b[0;32m----> 1\u001b[0m \u001b[43mjob_skills\u001b[49m\u001b[43m[\u001b[49m\u001b[38;5;241;43m1\u001b[39;49m\u001b[43m]\u001b[49m\n",
            "\u001b[0;31mTypeError\u001b[0m: 'set' object is not subscriptable"
          ]
        }
      ],
      "source": [
        "job_skills[1]"
      ]
    },
    {
      "cell_type": "markdown",
      "metadata": {
        "id": "J4Dl4cneGZ1q"
      },
      "source": [
        "### Add()\n",
        "\n",
        "Add an item using `add()`. Now we're going to add a skill to the list, 'looker'.  "
      ]
    },
    {
      "cell_type": "code",
      "execution_count": null,
      "metadata": {
        "colab": {
          "base_uri": "https://localhost:8080/"
        },
        "id": "Cd615DzNG1qg",
        "outputId": "46396b16-86f8-48d4-f48b-fd94bef3822b"
      },
      "outputs": [
        {
          "data": {
            "text/plain": [
              "{'looker', 'python', 'sql', 'statistics', 'tableau'}"
            ]
          },
          "execution_count": 14,
          "metadata": {},
          "output_type": "execute_result"
        }
      ],
      "source": [
        "# Adding a skill\n",
        "job_skills.add('looker')\n",
        "\n",
        "job_skills"
      ]
    },
    {
      "cell_type": "markdown",
      "metadata": {
        "id": "n6r2WkpUrOEQ"
      },
      "source": [
        "What if we add a skill that's already in the list like `sql`? It won't duplicate so the skill won't be added. The set is the exact same as before."
      ]
    },
    {
      "cell_type": "code",
      "execution_count": null,
      "metadata": {
        "id": "PWKL5F1HrOEQ",
        "outputId": "f5224e6d-787c-4009-d836-3606534db6de"
      },
      "outputs": [
        {
          "data": {
            "text/plain": [
              "{'looker', 'python', 'sql', 'statistics', 'tableau'}"
            ]
          },
          "execution_count": 15,
          "metadata": {},
          "output_type": "execute_result"
        }
      ],
      "source": [
        "# Adding a skill that already exists doesn't duplicate\n",
        "job_skills.add('sql')\n",
        "\n",
        "job_skills"
      ]
    },
    {
      "cell_type": "markdown",
      "metadata": {
        "id": "F1X9p3TzGa-z"
      },
      "source": [
        "### Remove()\n",
        "\n",
        "Remove an item in the set using `remove()`. Let's remove the 'statistics' item from this set."
      ]
    },
    {
      "cell_type": "markdown",
      "metadata": {
        "id": "OhTi47vArOER"
      },
      "source": [
        "🪲 **Debugging**\n",
        "\n",
        "**This is an intentional mistake**\n",
        "\n",
        "This is used to demonstrate debugging.\n",
        "\n",
        "Error: Tried to remove a skill that does not exist in this set.\n",
        "\n",
        "```python\n",
        "job_skills.remove('r')\n",
        "```\n",
        "\n",
        "Steps to Debug:\n",
        "\n",
        "1. Look at the actual error, can you tell what the problem is?\n",
        "2. If not, then look it up:\n",
        "  1. Use a chatbot like ChatGPT or Claude\n",
        "  2. Look it up using Google"
      ]
    },
    {
      "cell_type": "code",
      "execution_count": null,
      "metadata": {
        "id": "nuuTVoYNrOES",
        "outputId": "ad4d0a47-eec5-45c6-a550-afc1b974c61a"
      },
      "outputs": [
        {
          "ename": "KeyError",
          "evalue": "'r'",
          "output_type": "error",
          "traceback": [
            "\u001b[0;31m---------------------------------------------------------------------------\u001b[0m",
            "\u001b[0;31mKeyError\u001b[0m                                  Traceback (most recent call last)",
            "Cell \u001b[0;32mIn[16], line 2\u001b[0m\n\u001b[1;32m      1\u001b[0m \u001b[38;5;66;03m# Removing a skill\u001b[39;00m\n\u001b[0;32m----> 2\u001b[0m \u001b[43mjob_skills\u001b[49m\u001b[38;5;241;43m.\u001b[39;49m\u001b[43mremove\u001b[49m\u001b[43m(\u001b[49m\u001b[38;5;124;43m'\u001b[39;49m\u001b[38;5;124;43mr\u001b[39;49m\u001b[38;5;124;43m'\u001b[39;49m\u001b[43m)\u001b[49m\n\u001b[1;32m      4\u001b[0m job_skills\n",
            "\u001b[0;31mKeyError\u001b[0m: 'r'"
          ]
        }
      ],
      "source": [
        "# Removing a skill\n",
        "job_skills.remove('r')\n",
        "\n",
        "job_skills"
      ]
    },
    {
      "cell_type": "markdown",
      "metadata": {
        "id": "sc9C5jMdrOES"
      },
      "source": [
        "This is the correct code ✅."
      ]
    },
    {
      "cell_type": "code",
      "execution_count": null,
      "metadata": {
        "colab": {
          "base_uri": "https://localhost:8080/"
        },
        "id": "pMZJ0enXG6Sd",
        "outputId": "2bb6fb61-7ce4-44ee-be70-af8f4272fea4"
      },
      "outputs": [
        {
          "data": {
            "text/plain": [
              "{'looker', 'python', 'sql', 'tableau'}"
            ]
          },
          "execution_count": 17,
          "metadata": {},
          "output_type": "execute_result"
        }
      ],
      "source": [
        "# Removing a skill\n",
        "job_skills.remove('statistics')\n",
        "\n",
        "job_skills"
      ]
    },
    {
      "cell_type": "markdown",
      "metadata": {
        "id": "qT2H5vyVrOET"
      },
      "source": [
        "### Set()\n",
        "\n",
        "Sets are great for removing repetitive values. Let's create a list of skills called `skill_list` but these will have repeating skills. If we use `set()` on this new `skill_list`. It will show the list as a set (aka remove repeated values)."
      ]
    },
    {
      "cell_type": "code",
      "execution_count": null,
      "metadata": {
        "id": "1e4h0TrRrOEU",
        "outputId": "17738981-fae2-45a7-8905-b819cf3bdcdd"
      },
      "outputs": [
        {
          "data": {
            "text/plain": [
              "{'python', 'sql', 'statistics', 'tableau'}"
            ]
          },
          "execution_count": 18,
          "metadata": {},
          "output_type": "execute_result"
        }
      ],
      "source": [
        "# make a list of skills but some repeated values\n",
        "skill_list = ['python', 'sql', 'statistics', 'tableau', 'python', 'sql', 'statistics', 'tableau']\n",
        "\n",
        "set(skill_list)"
      ]
    },
    {
      "cell_type": "markdown",
      "metadata": {
        "id": "ppUrQpARrOEU"
      },
      "source": [
        "### List()\n",
        "\n",
        "We can even convert this set back to a list. This will still have the duplicates removed, it will have the unique skills."
      ]
    },
    {
      "cell_type": "code",
      "execution_count": null,
      "metadata": {
        "id": "OYrbNg0-rOEU",
        "outputId": "cba7373b-3e9e-4aca-ce59-6da5267b60a7"
      },
      "outputs": [
        {
          "data": {
            "text/plain": [
              "['python', 'statistics', 'tableau', 'sql']"
            ]
          },
          "execution_count": 19,
          "metadata": {},
          "output_type": "execute_result"
        }
      ],
      "source": [
        "skill_list = list(set(skill_list))\n",
        "\n",
        "skill_list"
      ]
    },
    {
      "cell_type": "markdown",
      "source": [
        "\n",
        "\n",
        "---\n",
        "\n"
      ],
      "metadata": {
        "id": "4KCfoI-stb35"
      }
    },
    {
      "cell_type": "markdown",
      "metadata": {
        "id": "_XX97xQ6xbNe"
      },
      "source": [
        "# Tuples\n",
        "\n",
        "* Used to store multiple items in a single variable\n",
        "* It is:\n",
        "  * Ordered\n",
        "  * Unchangeable\n",
        "* Written with `(` and `)`\n",
        "\n",
        "## Importance\n",
        "\n",
        "* Speed up operations because it's immutable\n",
        "* Immutable sequences, often used for fixed data, like column names or coordinates in Matplotlib plots\n",
        "\n",
        "## Examples\n",
        "\n",
        "We're going to create a tuple of data science skills."
      ]
    },
    {
      "cell_type": "code",
      "execution_count": null,
      "metadata": {
        "colab": {
          "base_uri": "https://localhost:8080/"
        },
        "id": "_HEdzAn4H7Kr",
        "outputId": "5480857f-ff94-4a48-d8a4-ad8c8997cf98"
      },
      "outputs": [
        {
          "data": {
            "text/plain": [
              "('python', 'sql', 'statistics', 'tableau')"
            ]
          },
          "execution_count": 3,
          "metadata": {},
          "output_type": "execute_result"
        }
      ],
      "source": [
        "# Define a tuple of data science skills\n",
        "job_skills = ('python', 'sql', 'statistics', 'tableau')\n",
        "\n",
        "job_skills"
      ]
    },
    {
      "cell_type": "markdown",
      "metadata": {
        "id": "BGCyH2mGH8SQ"
      },
      "source": [
        "### Get item\n",
        "\n",
        "Getting an element from a tuple using indexing. To get the first item from a tuple we'll get it at the index of `0`."
      ]
    },
    {
      "cell_type": "code",
      "execution_count": null,
      "metadata": {
        "colab": {
          "base_uri": "https://localhost:8080/"
        },
        "id": "8Ugtuh2GII9r",
        "outputId": "d323d8ab-6b82-4164-d1d4-89a9de1a35f7"
      },
      "outputs": [
        {
          "data": {
            "text/plain": [
              "'python'"
            ]
          },
          "execution_count": 4,
          "metadata": {},
          "output_type": "execute_result"
        }
      ],
      "source": [
        "# Accessing an element\n",
        "job_skills[0]"
      ]
    },
    {
      "cell_type": "markdown",
      "metadata": {
        "id": "rVzHiJhmH79L"
      },
      "source": [
        "### Slicing\n",
        "\n",
        "To only get part of a the tuple we'll use slicing. To only get 'python' and 'sql' values we'll get everything before the index of `2`."
      ]
    },
    {
      "cell_type": "code",
      "execution_count": null,
      "metadata": {
        "colab": {
          "base_uri": "https://localhost:8080/"
        },
        "id": "8YUluENzIDRF",
        "outputId": "484d495a-73bb-487c-cb28-1806217b1ffe"
      },
      "outputs": [
        {
          "data": {
            "text/plain": [
              "('python', 'sql')"
            ]
          },
          "execution_count": 5,
          "metadata": {},
          "output_type": "execute_result"
        }
      ],
      "source": [
        "# Define a set of data science skills\n",
        "job_skills = ('python', 'sql', 'statistics', 'tableau')\n",
        "\n",
        "job_skills[:2]"
      ]
    },
    {
      "cell_type": "markdown",
      "metadata": {
        "id": "Xuuv59NVtS0n"
      },
      "source": [
        "### Add Items\n",
        "\n",
        "Since tuples are immutable (not changeable), they don't have a built-in `append()` method. But there are two methods:"
      ]
    },
    {
      "cell_type": "code",
      "execution_count": null,
      "metadata": {
        "id": "SOZxCKZltS0o",
        "outputId": "96cad8c1-e485-43af-ef3b-4fc7f36650dc"
      },
      "outputs": [
        {
          "ename": "AttributeError",
          "evalue": "'tuple' object has no attribute 'append'",
          "output_type": "error",
          "traceback": [
            "\u001b[0;31m---------------------------------------------------------------------------\u001b[0m",
            "\u001b[0;31mAttributeError\u001b[0m                            Traceback (most recent call last)",
            "Cell \u001b[0;32mIn[6], line 1\u001b[0m\n\u001b[0;32m----> 1\u001b[0m \u001b[43mjob_skills\u001b[49m\u001b[38;5;241;43m.\u001b[39;49m\u001b[43mappend\u001b[49m(\u001b[38;5;124m'\u001b[39m\u001b[38;5;124mexcel\u001b[39m\u001b[38;5;124m'\u001b[39m)\n",
            "\u001b[0;31mAttributeError\u001b[0m: 'tuple' object has no attribute 'append'"
          ]
        }
      ],
      "source": [
        "job_skills.append('excel')"
      ]
    },
    {
      "cell_type": "markdown",
      "metadata": {
        "id": "IQdqQ4uxtS0o"
      },
      "source": [
        "**Method 1: Turn tuple into a list.**\n",
        "\n",
        "* First turn it into a list\n",
        "* Then use the `append()` method\n",
        "* Convert the list to a tuple"
      ]
    },
    {
      "cell_type": "code",
      "execution_count": null,
      "metadata": {
        "id": "Nygz_fFAtS0p",
        "outputId": "33aa4125-69ba-472a-91f3-952fbe4005f1"
      },
      "outputs": [
        {
          "data": {
            "text/plain": [
              "('python', 'sql', 'statistics', 'tableau', 'excel')"
            ]
          },
          "execution_count": 7,
          "metadata": {},
          "output_type": "execute_result"
        }
      ],
      "source": [
        "# Turn tuple into a list\n",
        "job_skills_list = list(job_skills)\n",
        "\n",
        "# Add skill to the list\n",
        "job_skills_list.append('excel')\n",
        "\n",
        "# Convert list to a tuple\n",
        "job_skills_tuple = tuple(job_skills_list)\n",
        "\n",
        "job_skills_tuple"
      ]
    },
    {
      "cell_type": "markdown",
      "metadata": {
        "id": "5gkqld5MtS0p"
      },
      "source": [
        "**Method 2: Add tuple to a tuple.**\n",
        "\n",
        "You can add tuples to tuples, which is good if you want to add one or more items.\n",
        "* Create a new tuple with the items\n",
        "* Add it to the existing tuple"
      ]
    },
    {
      "cell_type": "markdown",
      "metadata": {
        "id": "ngkgU5ADtS0p"
      },
      "source": [
        "🪲 **Debugging**\n",
        "\n",
        "**This is an intentional mistake**\n",
        "\n",
        "This is used to demonstrate debugging.\n",
        "\n",
        "This won't run an error but it's not returning what we intended. Remember to double check which variable you are returning.\n",
        "\n",
        "Mistake: We are accidentally returning `job_skills_new_tuple` instead of the original tuple `job_skills`\n",
        "\n",
        "```python\n",
        "job_skills.remove('r')\n",
        "```\n",
        "\n",
        "Steps to Debug:\n",
        "\n",
        "1. Look at the actual error, can you tell what the problem is?\n",
        "2. If not, then look it up:\n",
        "  1. Use a chatbot like ChatGPT or Claude\n",
        "  2. Look it up using Google"
      ]
    },
    {
      "cell_type": "code",
      "execution_count": null,
      "metadata": {
        "id": "ePlVxwVmtS0q",
        "outputId": "9e1d0a45-dca5-4e0c-a89c-4e803150e7c4"
      },
      "outputs": [
        {
          "data": {
            "text/plain": [
              "('r', 'postgresql')"
            ]
          },
          "execution_count": 8,
          "metadata": {},
          "output_type": "execute_result"
        }
      ],
      "source": [
        "job_skills_new_tuple = ('r', 'postgresql',)\n",
        "job_skills += job_skills_new_tuple\n",
        "\n",
        "job_skills_new_tuple"
      ]
    },
    {
      "cell_type": "markdown",
      "metadata": {
        "id": "0uBLUvtdtS0q"
      },
      "source": [
        "Note: To fix this just call the correct variable `job_skills`."
      ]
    },
    {
      "cell_type": "code",
      "execution_count": null,
      "metadata": {
        "id": "eoAn8mr9tS0r",
        "outputId": "e1e7f32f-d8f4-417a-ff81-75ee05ef3bb0"
      },
      "outputs": [
        {
          "data": {
            "text/plain": [
              "('python', 'sql', 'statistics', 'tableau', 'r', 'postgresql')"
            ]
          },
          "execution_count": 9,
          "metadata": {},
          "output_type": "execute_result"
        }
      ],
      "source": [
        "job_skills"
      ]
    },
    {
      "cell_type": "markdown",
      "metadata": {
        "id": "PgtZRrR7tS0r"
      },
      "source": [
        "If you rerun the entire cell (below) with the correct variable called at the end you will accidentally add a tuple to your tuple, and create duplicates. This is because you are adding the tuple to it again with these lines:\n",
        "\n",
        "```python\n",
        "job_skills_new_tuple = ('r', 'postgresql',)\n",
        "job_skills += job_skills_new_tuple\n",
        "```"
      ]
    },
    {
      "cell_type": "code",
      "execution_count": null,
      "metadata": {
        "id": "CGtDLBU0tS0r",
        "outputId": "cf219c94-04ce-4126-f6ba-e30d71ff8a84"
      },
      "outputs": [
        {
          "data": {
            "text/plain": [
              "('python',\n",
              " 'sql',\n",
              " 'statistics',\n",
              " 'tableau',\n",
              " 'r',\n",
              " 'postgresql',\n",
              " 'r',\n",
              " 'postgresql')"
            ]
          },
          "execution_count": 10,
          "metadata": {},
          "output_type": "execute_result"
        }
      ],
      "source": [
        "job_skills_new_tuple = ('r', 'postgresql',)\n",
        "job_skills += job_skills_new_tuple\n",
        "\n",
        "job_skills"
      ]
    },
    {
      "cell_type": "markdown",
      "metadata": {
        "id": "QZCX3MqjtS0s"
      },
      "source": [
        "### Join()\n",
        "\n",
        "We already went over this for lists but remember the `.join` method is used for concatenating a sequence of strings together with a specified separator. You need to add a specific separator (e.g. `', '`) between each element during the concatenation process.\n",
        "\n",
        "For tuples specifically we are combining multiple strings from a tuple."
      ]
    },
    {
      "cell_type": "code",
      "execution_count": null,
      "metadata": {
        "id": "FVzwFVf5tS0s"
      },
      "outputs": [],
      "source": [
        "skills = ('Python', 'SQL', 'Excel')"
      ]
    },
    {
      "cell_type": "code",
      "execution_count": null,
      "metadata": {
        "id": "jZ988KkFtS0s",
        "outputId": "635bd880-e5cf-4dca-bb44-fb2456659df6"
      },
      "outputs": [
        {
          "name": "stdout",
          "output_type": "stream",
          "text": [
            "I have these skills: Python, SQL, Excel\n"
          ]
        }
      ],
      "source": [
        "# f-string formatting\n",
        "print(f'I have these skills: {\", \".join(skills)}')"
      ]
    },
    {
      "cell_type": "markdown",
      "metadata": {
        "id": "DeJB6eh3tS0t"
      },
      "source": [
        "### Remove Items\n",
        "\n",
        "Since tuples are **unchangeable** you can't remove items for it. But you can use a similar workaround that we used for changing and adding tuple items."
      ]
    },
    {
      "cell_type": "code",
      "execution_count": null,
      "metadata": {
        "id": "AhmuECmFtS0t",
        "outputId": "57ec4b54-dca1-46d9-9477-8c010d86aa7e"
      },
      "outputs": [
        {
          "ename": "AttributeError",
          "evalue": "'tuple' object has no attribute 'remove'",
          "output_type": "error",
          "traceback": [
            "\u001b[0;31m---------------------------------------------------------------------------\u001b[0m",
            "\u001b[0;31mAttributeError\u001b[0m                            Traceback (most recent call last)",
            "Cell \u001b[0;32mIn[13], line 1\u001b[0m\n\u001b[0;32m----> 1\u001b[0m \u001b[43mskills\u001b[49m\u001b[38;5;241;43m.\u001b[39;49m\u001b[43mremove\u001b[49m(\u001b[38;5;124m'\u001b[39m\u001b[38;5;124mExcel\u001b[39m\u001b[38;5;124m'\u001b[39m)\n",
            "\u001b[0;31mAttributeError\u001b[0m: 'tuple' object has no attribute 'remove'"
          ]
        }
      ],
      "source": [
        "skills.remove('Excel')"
      ]
    },
    {
      "cell_type": "markdown",
      "metadata": {
        "id": "sivmOJNqtS0t"
      },
      "source": [
        "#### Remove()\n",
        "\n",
        "Convert the tuple into a list, remove the item using `remove()` method, and convert it back to a tuple."
      ]
    },
    {
      "cell_type": "code",
      "execution_count": null,
      "metadata": {
        "id": "Ioxy-18_tS0u",
        "outputId": "0d048b61-91de-4509-96c4-ea14af493ca3"
      },
      "outputs": [
        {
          "data": {
            "text/plain": [
              "('python', 'sql', 'statistics', 'r', 'postgresql', 'r', 'postgresql')"
            ]
          },
          "execution_count": 14,
          "metadata": {},
          "output_type": "execute_result"
        }
      ],
      "source": [
        "# Turn tuple into a list\n",
        "job_skills_remove = list(job_skills)\n",
        "\n",
        "# Remove skill from the list\n",
        "job_skills_remove.remove('tableau')\n",
        "\n",
        "# Convert list to a tuple\n",
        "job_skills_tuple = tuple(job_skills_remove)\n",
        "\n",
        "job_skills_tuple\n"
      ]
    },
    {
      "cell_type": "markdown",
      "metadata": {
        "id": "oI2vhGM0tS0u"
      },
      "source": [
        "#### Del\n",
        "\n",
        "Or you can use the `del` keyword to delete the tuple completely. If we try to show the job_skills are we delete it, it will return an error."
      ]
    },
    {
      "cell_type": "code",
      "execution_count": null,
      "metadata": {
        "id": "YEPSUY6_tS0u",
        "outputId": "c06d66ba-c146-46ad-b097-b5dc39f6afaf"
      },
      "outputs": [
        {
          "ename": "NameError",
          "evalue": "name 'job_skills' is not defined",
          "output_type": "error",
          "traceback": [
            "\u001b[0;31m---------------------------------------------------------------------------\u001b[0m",
            "\u001b[0;31mNameError\u001b[0m                                 Traceback (most recent call last)",
            "Cell \u001b[0;32mIn[15], line 2\u001b[0m\n\u001b[1;32m      1\u001b[0m \u001b[38;5;28;01mdel\u001b[39;00m job_skills\n\u001b[0;32m----> 2\u001b[0m \u001b[43mjob_skills\u001b[49m\n",
            "\u001b[0;31mNameError\u001b[0m: name 'job_skills' is not defined"
          ]
        }
      ],
      "source": [
        "del job_skills\n",
        "job_skills"
      ]
    },
    {
      "cell_type": "markdown",
      "metadata": {
        "id": "x4JYc7petS0v"
      },
      "source": [
        "## range()\n",
        "\n",
        "Now these 4 container data types we covered over the past few notebooks are not the only container data types.\n",
        "\n",
        "The `range()` function generates a sequence of numbers. It is commonly used for looping a specific number of times in for loops."
      ]
    },
    {
      "cell_type": "code",
      "execution_count": null,
      "metadata": {
        "id": "hTsV33UttS0v",
        "outputId": "ec291682-af76-4868-ef0d-0a6895804fbd"
      },
      "outputs": [
        {
          "data": {
            "text/plain": [
              "range(0, 5)"
            ]
          },
          "execution_count": 16,
          "metadata": {},
          "output_type": "execute_result"
        }
      ],
      "source": [
        "range(5)"
      ]
    },
    {
      "cell_type": "markdown",
      "metadata": {
        "id": "2u6u7QcDtS0v"
      },
      "source": [
        "Note: `range()` isn't a tuple, it's its own datatype; but it's dang close and short, so we'll cover it here."
      ]
    },
    {
      "cell_type": "code",
      "execution_count": null,
      "metadata": {
        "id": "pWhACMIHtS0w",
        "outputId": "6f999228-af76-4fa8-dbf6-af36c4546a12"
      },
      "outputs": [
        {
          "data": {
            "text/plain": [
              "range"
            ]
          },
          "execution_count": 17,
          "metadata": {},
          "output_type": "execute_result"
        }
      ],
      "source": [
        "type(range(5))"
      ]
    },
    {
      "cell_type": "markdown",
      "metadata": {
        "id": "tofGfLiJtS0w"
      },
      "source": [
        "But let's actually see inside of this object by converting it to a tuple."
      ]
    },
    {
      "cell_type": "code",
      "execution_count": null,
      "metadata": {
        "id": "ysXKq25dtS0w",
        "outputId": "b6da590b-20b2-4163-f120-00149c450eae"
      },
      "outputs": [
        {
          "data": {
            "text/plain": [
              "(0, 1, 2, 3, 4)"
            ]
          },
          "execution_count": 22,
          "metadata": {},
          "output_type": "execute_result"
        }
      ],
      "source": [
        "tuple(range(5))"
      ]
    },
    {
      "cell_type": "markdown",
      "metadata": {
        "id": "wyxV4UdItS0w"
      },
      "source": [
        "Syntax: The `range()` function can be called with one, two, or three arguments:  \n",
        "* `range(stop)`: Generates numbers from 0 to stop-1 (read: stop minus 1)\n",
        "* `range(start, stop)`: Generates numbers from start to stop-1\n",
        "* `range(start, stop, step)`: Generates numbers from start to stop-1"
      ]
    },
    {
      "cell_type": "code",
      "execution_count": null,
      "metadata": {
        "id": "BdRu5JJGtS0x",
        "outputId": "d4f9b0bd-0476-4218-f680-df74095f172f"
      },
      "outputs": [
        {
          "data": {
            "text/plain": [
              "[2, 3, 4]"
            ]
          },
          "execution_count": 20,
          "metadata": {},
          "output_type": "execute_result"
        }
      ],
      "source": [
        "list(range(2,5))"
      ]
    },
    {
      "cell_type": "code",
      "execution_count": null,
      "metadata": {
        "id": "IHgGVehHtS0x",
        "outputId": "e389f374-9c90-42cf-91cd-cd082979f2bf"
      },
      "outputs": [
        {
          "data": {
            "text/plain": [
              "[0,\n",
              " 2,\n",
              " 4,\n",
              " 6,\n",
              " 8,\n",
              " 10,\n",
              " 12,\n",
              " 14,\n",
              " 16,\n",
              " 18,\n",
              " 20,\n",
              " 22,\n",
              " 24,\n",
              " 26,\n",
              " 28,\n",
              " 30,\n",
              " 32,\n",
              " 34,\n",
              " 36,\n",
              " 38,\n",
              " 40,\n",
              " 42,\n",
              " 44,\n",
              " 46,\n",
              " 48,\n",
              " 50,\n",
              " 52,\n",
              " 54,\n",
              " 56,\n",
              " 58,\n",
              " 60,\n",
              " 62,\n",
              " 64,\n",
              " 66,\n",
              " 68,\n",
              " 70,\n",
              " 72,\n",
              " 74,\n",
              " 76,\n",
              " 78,\n",
              " 80,\n",
              " 82,\n",
              " 84,\n",
              " 86,\n",
              " 88,\n",
              " 90,\n",
              " 92,\n",
              " 94,\n",
              " 96,\n",
              " 98]"
            ]
          },
          "execution_count": 23,
          "metadata": {},
          "output_type": "execute_result"
        }
      ],
      "source": [
        "list(range(0, 100, 2))"
      ]
    }
  ]
}